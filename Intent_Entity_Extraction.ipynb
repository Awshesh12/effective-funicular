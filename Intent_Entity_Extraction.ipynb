{
  "nbformat": 4,
  "nbformat_minor": 0,
  "metadata": {
    "colab": {
      "name": "NLP_Assignment_2.ipynb",
      "provenance": []
    },
    "kernelspec": {
      "name": "python3",
      "display_name": "Python 3"
    },
    "language_info": {
      "name": "python"
    },
    "accelerator": "GPU",
    "gpuClass": "standard"
  },
  "cells": [
    {
      "cell_type": "code",
      "execution_count": 1,
      "metadata": {
        "colab": {
          "base_uri": "https://localhost:8080/"
        },
        "id": "7Ahztjr8TArW",
        "outputId": "5b250130-7aea-485a-b79d-6ce228b0d290"
      },
      "outputs": [
        {
          "output_type": "stream",
          "name": "stdout",
          "text": [
            "Looking in indexes: https://pypi.org/simple, https://us-python.pkg.dev/colab-wheels/public/simple/\n",
            "Requirement already satisfied: rasa_nlu in /usr/local/lib/python3.7/dist-packages (0.15.1)\n",
            "Requirement already satisfied: coloredlogs~=10.0 in /usr/local/lib/python3.7/dist-packages (from rasa_nlu) (10.0)\n",
            "Requirement already satisfied: future~=0.17.1 in /usr/local/lib/python3.7/dist-packages (from rasa_nlu) (0.17.1)\n",
            "Requirement already satisfied: ruamel.yaml~=0.15.7 in /usr/local/lib/python3.7/dist-packages (from rasa_nlu) (0.15.100)\n",
            "Requirement already satisfied: matplotlib~=2.2 in /usr/local/lib/python3.7/dist-packages (from rasa_nlu) (2.2.5)\n",
            "Requirement already satisfied: gevent~=1.3 in /usr/local/lib/python3.7/dist-packages (from rasa_nlu) (1.5.0)\n",
            "Requirement already satisfied: typing~=3.6 in /usr/local/lib/python3.7/dist-packages (from rasa_nlu) (3.7.4.3)\n",
            "Requirement already satisfied: requests~=2.20 in /usr/local/lib/python3.7/dist-packages (from rasa_nlu) (2.23.0)\n",
            "Requirement already satisfied: tqdm~=4.19 in /usr/local/lib/python3.7/dist-packages (from rasa_nlu) (4.64.0)\n",
            "Requirement already satisfied: numpy>=1.16 in /usr/local/lib/python3.7/dist-packages (from rasa_nlu) (1.21.6)\n",
            "Requirement already satisfied: packaging~=18.0 in /usr/local/lib/python3.7/dist-packages (from rasa_nlu) (18.0)\n",
            "Requirement already satisfied: scikit-learn~=0.20.2 in /usr/local/lib/python3.7/dist-packages (from rasa_nlu) (0.20.4)\n",
            "Requirement already satisfied: cloudpickle~=0.6.1 in /usr/local/lib/python3.7/dist-packages (from rasa_nlu) (0.6.1)\n",
            "Requirement already satisfied: klein~=17.10 in /usr/local/lib/python3.7/dist-packages (from rasa_nlu) (17.10.0)\n",
            "Requirement already satisfied: boto3~=1.9 in /usr/local/lib/python3.7/dist-packages (from rasa_nlu) (1.24.10)\n",
            "Requirement already satisfied: jsonschema~=2.6 in /usr/local/lib/python3.7/dist-packages (from rasa_nlu) (2.6.0)\n",
            "Requirement already satisfied: simplejson~=3.13 in /usr/local/lib/python3.7/dist-packages (from rasa_nlu) (3.17.6)\n",
            "Requirement already satisfied: s3transfer<0.7.0,>=0.6.0 in /usr/local/lib/python3.7/dist-packages (from boto3~=1.9->rasa_nlu) (0.6.0)\n",
            "Requirement already satisfied: jmespath<2.0.0,>=0.7.1 in /usr/local/lib/python3.7/dist-packages (from boto3~=1.9->rasa_nlu) (1.0.0)\n",
            "Requirement already satisfied: botocore<1.28.0,>=1.27.10 in /usr/local/lib/python3.7/dist-packages (from boto3~=1.9->rasa_nlu) (1.27.10)\n",
            "Requirement already satisfied: python-dateutil<3.0.0,>=2.1 in /usr/local/lib/python3.7/dist-packages (from botocore<1.28.0,>=1.27.10->boto3~=1.9->rasa_nlu) (2.8.2)\n",
            "Requirement already satisfied: urllib3<1.27,>=1.25.4 in /usr/local/lib/python3.7/dist-packages (from botocore<1.28.0,>=1.27.10->boto3~=1.9->rasa_nlu) (1.25.11)\n",
            "Requirement already satisfied: humanfriendly>=4.7 in /usr/local/lib/python3.7/dist-packages (from coloredlogs~=10.0->rasa_nlu) (10.0)\n",
            "Requirement already satisfied: greenlet>=0.4.14 in /usr/local/lib/python3.7/dist-packages (from gevent~=1.3->rasa_nlu) (1.1.2)\n",
            "Requirement already satisfied: werkzeug in /usr/local/lib/python3.7/dist-packages (from klein~=17.10->rasa_nlu) (1.0.1)\n",
            "Requirement already satisfied: Twisted>=15.5 in /usr/local/lib/python3.7/dist-packages (from klein~=17.10->rasa_nlu) (22.4.0)\n",
            "Requirement already satisfied: six in /usr/local/lib/python3.7/dist-packages (from klein~=17.10->rasa_nlu) (1.15.0)\n",
            "Requirement already satisfied: incremental in /usr/local/lib/python3.7/dist-packages (from klein~=17.10->rasa_nlu) (21.3.0)\n",
            "Requirement already satisfied: cycler>=0.10 in /usr/local/lib/python3.7/dist-packages (from matplotlib~=2.2->rasa_nlu) (0.11.0)\n",
            "Requirement already satisfied: kiwisolver>=1.0.1 in /usr/local/lib/python3.7/dist-packages (from matplotlib~=2.2->rasa_nlu) (1.4.2)\n",
            "Requirement already satisfied: pyparsing!=2.0.4,!=2.1.2,!=2.1.6,>=2.0.1 in /usr/local/lib/python3.7/dist-packages (from matplotlib~=2.2->rasa_nlu) (3.0.9)\n",
            "Requirement already satisfied: pytz in /usr/local/lib/python3.7/dist-packages (from matplotlib~=2.2->rasa_nlu) (2022.1)\n",
            "Requirement already satisfied: typing-extensions in /usr/local/lib/python3.7/dist-packages (from kiwisolver>=1.0.1->matplotlib~=2.2->rasa_nlu) (4.1.1)\n",
            "Requirement already satisfied: idna<3,>=2.5 in /usr/local/lib/python3.7/dist-packages (from requests~=2.20->rasa_nlu) (2.10)\n",
            "Requirement already satisfied: chardet<4,>=3.0.2 in /usr/local/lib/python3.7/dist-packages (from requests~=2.20->rasa_nlu) (3.0.4)\n",
            "Requirement already satisfied: certifi>=2017.4.17 in /usr/local/lib/python3.7/dist-packages (from requests~=2.20->rasa_nlu) (2022.5.18.1)\n",
            "Requirement already satisfied: scipy>=0.13.3 in /usr/local/lib/python3.7/dist-packages (from scikit-learn~=0.20.2->rasa_nlu) (1.4.1)\n",
            "Requirement already satisfied: attrs>=19.2.0 in /usr/local/lib/python3.7/dist-packages (from Twisted>=15.5->klein~=17.10->rasa_nlu) (21.4.0)\n",
            "Requirement already satisfied: constantly>=15.1 in /usr/local/lib/python3.7/dist-packages (from Twisted>=15.5->klein~=17.10->rasa_nlu) (15.1.0)\n",
            "Requirement already satisfied: zope.interface>=4.4.2 in /usr/local/lib/python3.7/dist-packages (from Twisted>=15.5->klein~=17.10->rasa_nlu) (5.4.0)\n",
            "Requirement already satisfied: Automat>=0.8.0 in /usr/local/lib/python3.7/dist-packages (from Twisted>=15.5->klein~=17.10->rasa_nlu) (20.2.0)\n",
            "Requirement already satisfied: hyperlink>=17.1.1 in /usr/local/lib/python3.7/dist-packages (from Twisted>=15.5->klein~=17.10->rasa_nlu) (21.0.0)\n",
            "Requirement already satisfied: setuptools in /usr/local/lib/python3.7/dist-packages (from zope.interface>=4.4.2->Twisted>=15.5->klein~=17.10->rasa_nlu) (57.4.0)\n"
          ]
        }
      ],
      "source": [
        "!pip install rasa_nlu\n",
        "!pip install sklearn_crfsuite\n",
        "!pip install -U spacy==2.2.2"
      ]
    },
    {
      "cell_type": "code",
      "source": [
        "from rasa_nlu.training_data import load_data\n",
        "from rasa_nlu.config import RasaNLUModelConfig\n",
        "from rasa_nlu.model import Trainer\n",
        "from rasa_nlu import config"
      ],
      "metadata": {
        "id": "W02PQrb4TugE"
      },
      "execution_count": 35,
      "outputs": []
    },
    {
      "cell_type": "code",
      "source": [
        "train_data = load_data('rasa_test.json')"
      ],
      "metadata": {
        "id": "oRAwx2bDVpSk"
      },
      "execution_count": 36,
      "outputs": []
    },
    {
      "cell_type": "code",
      "source": [
        "trainer = Trainer(config.load(\"yaml-editor-online.yaml\"))"
      ],
      "metadata": {
        "id": "RO7XvXU2aHUB"
      },
      "execution_count": 37,
      "outputs": []
    },
    {
      "cell_type": "code",
      "source": [
        "trainer.train(train_data)"
      ],
      "metadata": {
        "colab": {
          "base_uri": "https://localhost:8080/"
        },
        "id": "vD6yvz20geh-",
        "outputId": "81ecda14-3734-407b-d42f-43f029fb9509"
      },
      "execution_count": 38,
      "outputs": [
        {
          "output_type": "stream",
          "name": "stdout",
          "text": [
            "Fitting 2 folds for each of 6 candidates, totalling 12 fits\n"
          ]
        },
        {
          "output_type": "stream",
          "name": "stderr",
          "text": [
            "/usr/local/lib/python3.7/dist-packages/rasa_nlu/training_data/training_data.py:176: UserWarning: Intent 'affirm' has only 1 training examples! Minimum is 2, training may fail.\n",
            "  self.MIN_EXAMPLES_PER_INTENT))\n",
            "/usr/local/lib/python3.7/dist-packages/sklearn/model_selection/_split.py:651: Warning: The least populated class in y has only 1 members, which is too few. The minimum number of members in any class cannot be less than n_splits=2.\n",
            "  % (min_groups, self.n_splits)), Warning)\n",
            "[Parallel(n_jobs=1)]: Using backend SequentialBackend with 1 concurrent workers.\n",
            "/usr/local/lib/python3.7/dist-packages/sklearn/metrics/classification.py:1143: UndefinedMetricWarning: F-score is ill-defined and being set to 0.0 in labels with no predicted samples.\n",
            "  'precision', 'predicted', average, warn_for)\n",
            "/usr/local/lib/python3.7/dist-packages/sklearn/metrics/classification.py:1143: UndefinedMetricWarning: F-score is ill-defined and being set to 0.0 in labels with no predicted samples.\n",
            "  'precision', 'predicted', average, warn_for)\n",
            "/usr/local/lib/python3.7/dist-packages/sklearn/metrics/classification.py:1143: UndefinedMetricWarning: F-score is ill-defined and being set to 0.0 in labels with no predicted samples.\n",
            "  'precision', 'predicted', average, warn_for)\n",
            "/usr/local/lib/python3.7/dist-packages/sklearn/metrics/classification.py:1143: UndefinedMetricWarning: F-score is ill-defined and being set to 0.0 in labels with no predicted samples.\n",
            "  'precision', 'predicted', average, warn_for)\n",
            "/usr/local/lib/python3.7/dist-packages/sklearn/metrics/classification.py:1143: UndefinedMetricWarning: F-score is ill-defined and being set to 0.0 in labels with no predicted samples.\n",
            "  'precision', 'predicted', average, warn_for)\n",
            "/usr/local/lib/python3.7/dist-packages/sklearn/metrics/classification.py:1143: UndefinedMetricWarning: F-score is ill-defined and being set to 0.0 in labels with no predicted samples.\n",
            "  'precision', 'predicted', average, warn_for)\n",
            "[Parallel(n_jobs=1)]: Done  12 out of  12 | elapsed:    0.0s finished\n"
          ]
        },
        {
          "output_type": "execute_result",
          "data": {
            "text/plain": [
              "<rasa_nlu.model.Interpreter at 0x7f56ead1d050>"
            ]
          },
          "metadata": {},
          "execution_count": 38
        }
      ]
    },
    {
      "cell_type": "code",
      "source": [
        "model_directory = trainer.persist('/content/drive/MyDrive/NLP Assignment/projects/')"
      ],
      "metadata": {
        "id": "Wfu9oIvkhHxV"
      },
      "execution_count": 39,
      "outputs": []
    },
    {
      "cell_type": "code",
      "source": [
        "from rasa_nlu.model import Interpreter"
      ],
      "metadata": {
        "id": "cpnPjC3XphXi"
      },
      "execution_count": 40,
      "outputs": []
    },
    {
      "cell_type": "code",
      "source": [
        "interpreter = Interpreter.load('/content/drive/MyDrive/NLP Assignment/projects/default/model_20220616-141820')\n",
        "interpreter.parse(\"I am looking for an Italian Restaurant where I can eat\")"
      ],
      "metadata": {
        "colab": {
          "base_uri": "https://localhost:8080/"
        },
        "id": "4WdUE5e5pmxZ",
        "outputId": "8731dae5-94b3-48d0-b946-6a838cfa9840"
      },
      "execution_count": 41,
      "outputs": [
        {
          "output_type": "execute_result",
          "data": {
            "text/plain": [
              "{'entities': [],\n",
              " 'intent': {'confidence': 0.5295326156127053, 'name': 'Purpose'},\n",
              " 'intent_ranking': [{'confidence': 0.5295326156127053, 'name': 'Purpose'},\n",
              "  {'confidence': 0.1896010830130251, 'name': 'goodbye'},\n",
              "  {'confidence': 0.12303476631519923, 'name': 'Intro'},\n",
              "  {'confidence': 0.09814989243160918, 'name': 'greet'},\n",
              "  {'confidence': 0.059681642627460875, 'name': 'affirm'}],\n",
              " 'text': 'I am looking for an Italian Restaurant where I can eat'}"
            ]
          },
          "metadata": {},
          "execution_count": 41
        }
      ]
    },
    {
      "cell_type": "code",
      "source": [
        "aa = [\"Hello\", \"I NANCY THIS IS LIKE FROM EIGHTIENT INCORPORATION\", \"YES HOW CAN I HELP YOU\", \"NANCY YOU HAVE BEEN USING OUR PREEPA CONNECTION FOR A COUPLE OF YEARS NOW RIGHT\", \"YE THAT'S RIGHT\", \"HOW WOULD YOU LIKE A POSTPA CONNECTION THAT ALLOWS YOU TO MAKE FREE UNLIMITED VOICE CALLS TO THREE EIGHTENT NUMBERS\", \"I WOULD LOVE THAT BUT WHAT'S THE CATCH\",\"THERE'S NO CATCH THERE WILL BE A MONTHLY RENTAL WHICH YOU WILL HAVE TO PAY LIKE ANY OTHER POSTPAID CONNECTION\",\"FANTASTIC SIGN ME UP\"]"
      ],
      "metadata": {
        "id": "UaLQlR9kppxQ"
      },
      "execution_count": 42,
      "outputs": []
    },
    {
      "cell_type": "code",
      "source": [
        "ab=[]\n",
        "for each in aa:\n",
        "  test = interpreter.parse(each)\n",
        "  ab.append(test)"
      ],
      "metadata": {
        "id": "USZuqA941z5y"
      },
      "execution_count": 44,
      "outputs": []
    },
    {
      "cell_type": "code",
      "source": [
        "interpreter.parse('Hello')"
      ],
      "metadata": {
        "colab": {
          "base_uri": "https://localhost:8080/"
        },
        "id": "HmTZo4e-153C",
        "outputId": "85c4dc0a-a956-4e3e-a165-2c8c01b68648"
      },
      "execution_count": 22,
      "outputs": [
        {
          "output_type": "execute_result",
          "data": {
            "text/plain": [
              "{'entities': [],\n",
              " 'intent': {'confidence': 0.57562190483519, 'name': 'affirm'},\n",
              " 'intent_ranking': [{'confidence': 0.57562190483519, 'name': 'affirm'},\n",
              "  {'confidence': 0.3087659452224034, 'name': 'greet'},\n",
              "  {'confidence': 0.07855868620286764, 'name': 'goodbye'},\n",
              "  {'confidence': 0.016731254831597455, 'name': 'Purpose'},\n",
              "  {'confidence': 0.011255619716211319, 'name': 'Intro'},\n",
              "  {'confidence': 0.009066589191729863, 'name': 'restaurant_search'}],\n",
              " 'text': 'Hello'}"
            ]
          },
          "metadata": {},
          "execution_count": 22
        }
      ]
    },
    {
      "cell_type": "code",
      "source": [
        "ab"
      ],
      "metadata": {
        "colab": {
          "base_uri": "https://localhost:8080/"
        },
        "id": "r7Gu06io2aNx",
        "outputId": "06561d89-08d2-46ff-d2b8-8248d834717e"
      },
      "execution_count": 45,
      "outputs": [
        {
          "output_type": "execute_result",
          "data": {
            "text/plain": [
              "[{'entities': [],\n",
              "  'intent': {'confidence': 0.7137229532482113, 'name': 'greet'},\n",
              "  'intent_ranking': [{'confidence': 0.7137229532482113, 'name': 'greet'},\n",
              "   {'confidence': 0.1554049596010624, 'name': 'goodbye'},\n",
              "   {'confidence': 0.08481265384976487, 'name': 'affirm'},\n",
              "   {'confidence': 0.029714486337083595, 'name': 'Purpose'},\n",
              "   {'confidence': 0.016344946963877918, 'name': 'Intro'}],\n",
              "  'text': 'Hello'},\n",
              " {'entities': [],\n",
              "  'intent': {'confidence': 0.3119845069163614, 'name': 'Purpose'},\n",
              "  'intent_ranking': [{'confidence': 0.3119845069163614, 'name': 'Purpose'},\n",
              "   {'confidence': 0.3081908985837628, 'name': 'Intro'},\n",
              "   {'confidence': 0.19524518182346892, 'name': 'goodbye'},\n",
              "   {'confidence': 0.1531987619705422, 'name': 'greet'},\n",
              "   {'confidence': 0.031380650705865064, 'name': 'affirm'}],\n",
              "  'text': 'I NANCY THIS IS LIKE FROM EIGHTIENT INCORPORATION'},\n",
              " {'entities': [],\n",
              "  'intent': {'confidence': 0.36624685009157315, 'name': 'Purpose'},\n",
              "  'intent_ranking': [{'confidence': 0.36624685009157315, 'name': 'Purpose'},\n",
              "   {'confidence': 0.3190399062544181, 'name': 'goodbye'},\n",
              "   {'confidence': 0.1563796389760359, 'name': 'greet'},\n",
              "   {'confidence': 0.09143465721403916, 'name': 'Intro'},\n",
              "   {'confidence': 0.06689894746393382, 'name': 'affirm'}],\n",
              "  'text': 'YES HOW CAN I HELP YOU'},\n",
              " {'entities': [],\n",
              "  'intent': {'confidence': 0.5012907234538844, 'name': 'Purpose'},\n",
              "  'intent_ranking': [{'confidence': 0.5012907234538844, 'name': 'Purpose'},\n",
              "   {'confidence': 0.19874298779129237, 'name': 'goodbye'},\n",
              "   {'confidence': 0.12418881972369389, 'name': 'greet'},\n",
              "   {'confidence': 0.12392394619650987, 'name': 'Intro'},\n",
              "   {'confidence': 0.051853522834619505, 'name': 'affirm'}],\n",
              "  'text': 'NANCY YOU HAVE BEEN USING OUR PREEPA CONNECTION FOR A COUPLE OF YEARS NOW RIGHT'},\n",
              " {'entities': [],\n",
              "  'intent': {'confidence': 0.43007497822100543, 'name': 'Intro'},\n",
              "  'intent_ranking': [{'confidence': 0.43007497822100543, 'name': 'Intro'},\n",
              "   {'confidence': 0.2010890561315087, 'name': 'greet'},\n",
              "   {'confidence': 0.1715474752447744, 'name': 'Purpose'},\n",
              "   {'confidence': 0.1708762920090828, 'name': 'goodbye'},\n",
              "   {'confidence': 0.026412198393628798, 'name': 'affirm'}],\n",
              "  'text': \"YE THAT'S RIGHT\"},\n",
              " {'entities': [],\n",
              "  'intent': {'confidence': 0.46414625746724625, 'name': 'Purpose'},\n",
              "  'intent_ranking': [{'confidence': 0.46414625746724625, 'name': 'Purpose'},\n",
              "   {'confidence': 0.26368317132472496, 'name': 'goodbye'},\n",
              "   {'confidence': 0.1304000705301719, 'name': 'greet'},\n",
              "   {'confidence': 0.08599278438726783, 'name': 'Intro'},\n",
              "   {'confidence': 0.055777716290589, 'name': 'affirm'}],\n",
              "  'text': 'HOW WOULD YOU LIKE A POSTPA CONNECTION THAT ALLOWS YOU TO MAKE FREE UNLIMITED VOICE CALLS TO THREE EIGHTENT NUMBERS'},\n",
              " {'entities': [],\n",
              "  'intent': {'confidence': 0.5618286342282635, 'name': 'Purpose'},\n",
              "  'intent_ranking': [{'confidence': 0.5618286342282635, 'name': 'Purpose'},\n",
              "   {'confidence': 0.17773702402111524, 'name': 'goodbye'},\n",
              "   {'confidence': 0.11135812043292213, 'name': 'Intro'},\n",
              "   {'confidence': 0.0902241597331044, 'name': 'greet'},\n",
              "   {'confidence': 0.058852061584594884, 'name': 'affirm'}],\n",
              "  'text': \"I WOULD LOVE THAT BUT WHAT'S THE CATCH\"},\n",
              " {'entities': [],\n",
              "  'intent': {'confidence': 0.4386419630191602, 'name': 'Purpose'},\n",
              "  'intent_ranking': [{'confidence': 0.4386419630191602, 'name': 'Purpose'},\n",
              "   {'confidence': 0.3131000858800467, 'name': 'goodbye'},\n",
              "   {'confidence': 0.10629831960382045, 'name': 'greet'},\n",
              "   {'confidence': 0.0903133994347007, 'name': 'Intro'},\n",
              "   {'confidence': 0.051646232062271626, 'name': 'affirm'}],\n",
              "  'text': \"THERE'S NO CATCH THERE WILL BE A MONTHLY RENTAL WHICH YOU WILL HAVE TO PAY LIKE ANY OTHER POSTPAID CONNECTION\"},\n",
              " {'entities': [],\n",
              "  'intent': {'confidence': 0.49644263993332594, 'name': 'Purpose'},\n",
              "  'intent_ranking': [{'confidence': 0.49644263993332594, 'name': 'Purpose'},\n",
              "   {'confidence': 0.22315314112348872, 'name': 'goodbye'},\n",
              "   {'confidence': 0.16143608678627488, 'name': 'greet'},\n",
              "   {'confidence': 0.06964849953525379, 'name': 'Intro'},\n",
              "   {'confidence': 0.0493196326216568, 'name': 'affirm'}],\n",
              "  'text': 'FANTASTIC SIGN ME UP'}]"
            ]
          },
          "metadata": {},
          "execution_count": 45
        }
      ]
    },
    {
      "cell_type": "code",
      "source": [
        "import spacy\n",
        "nlp = spacy.load('en_core_web_sm')"
      ],
      "metadata": {
        "id": "GsuGfI176JVK"
      },
      "execution_count": 46,
      "outputs": []
    },
    {
      "cell_type": "code",
      "source": [
        "for each in aa:\n",
        "  docx = nlp(each)\n",
        "  for word in docx.ents:\n",
        "    print(\"value\",word.text,\"entity\",word.label_,\"start\",word.start_char,\"end\",word.end_char)"
      ],
      "metadata": {
        "colab": {
          "base_uri": "https://localhost:8080/"
        },
        "id": "N8MJyS7x6Nk1",
        "outputId": "68f206cb-53e5-44b5-936c-c2658b3d3b0f"
      },
      "execution_count": 47,
      "outputs": [
        {
          "output_type": "stream",
          "name": "stdout",
          "text": [
            "value THREE entity CARDINAL start 93 end 98\n",
            "value POSTPAID entity ORG start 90 end 98\n"
          ]
        }
      ]
    },
    {
      "cell_type": "code",
      "source": [
        "docx = nlp('Hello')"
      ],
      "metadata": {
        "id": "WQl3Puvj6LFB"
      },
      "execution_count": 49,
      "outputs": []
    },
    {
      "cell_type": "code",
      "source": [
        "for word in docx.ents:\n",
        "  print(\"value\",word.text,\"entity\",word.label_,\"start\",word.start_char,\"end\",word.end_char)"
      ],
      "metadata": {
        "id": "hNeygVFa6gFg"
      },
      "execution_count": 50,
      "outputs": []
    }
  ]
}